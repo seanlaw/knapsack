{
 "cells": [
  {
   "cell_type": "code",
   "execution_count": 1,
   "id": "69151d21-f0f0-4249-96d3-fad010fb81b4",
   "metadata": {},
   "outputs": [],
   "source": [
    "import numpy as np\n",
    "from numba import njit"
   ]
  },
  {
   "cell_type": "markdown",
   "id": "f77d4de5-3489-4c8b-b6a1-579bfa99f8fc",
   "metadata": {},
   "source": [
    "# References\n",
    "\n",
    "* [Knapsack Problem Dynamic Programming](https://www.youtube.com/watch?v=zRza99HPvkQ)\n",
    "* [Ekillion Train Example](https://github.com/takemaru/graphillion/wiki/Example-codes#ekillion---weighted-edges-and-vertices)\n",
    "* [Finding All Knapsack Solutions (Paths) Within a Range of Weight Limits](https://github.com/takemaru/graphillion/issues/66)"
   ]
  },
  {
   "cell_type": "code",
   "execution_count": 2,
   "id": "60cff6d3-c875-46b9-89e7-f94bd22feb9e",
   "metadata": {},
   "outputs": [],
   "source": [
    "@njit\n",
    "def knapsack(weights, values, capacity, n, lookup):\n",
    "    \"\"\"\n",
    "    Based on these dynamic programming explanations:\n",
    "    https://www.youtube.com/watch?v=hagBB17_hvg\n",
    "    https://www.youtube.com/watch?v=zRza99HPvkQ\n",
    "\n",
    "    Nearly identical code can be found here:\n",
    "    https://www.geeksforgeeks.org/0-1-knapsack-problem-dp-10/\n",
    "\n",
    "    Search for \"Bottom-up Approach for 0/1 Knapsack Problem\"\n",
    "\n",
    "    Note that the weights and values vectors are assumed to have a zero\n",
    "    prepended to them. Thus, the index of each item starts at one.\n",
    "    \"\"\"\n",
    "    for i in range(n+1):\n",
    "        for w in range(capacity+1):\n",
    "            if i == 0 or w == 0:\n",
    "                lookup[i, w] = 0\n",
    "            elif weights[i] <= w:\n",
    "                lookup[i, w] = max(\n",
    "                    lookup[i-1, w-weights[i]] + values[i],\n",
    "                    lookup[i-1, w]\n",
    "                )\n",
    "            else:\n",
    "                lookup[i, w] = lookup[i-1, w]\n",
    "    return lookup[n, w]"
   ]
  },
  {
   "cell_type": "code",
   "execution_count": 3,
   "id": "08a9daa4-0caf-4f90-a172-03ae95b3003d",
   "metadata": {},
   "outputs": [],
   "source": [
    "class KNAPSACK:\n",
    "    def __init__(self, weights, values, capacity):\n",
    "        self._n = len(weights)  # This is the actual number of items\n",
    "        self._weights = np.concatenate(([0], weights))\n",
    "        self._values = np.concatenate(([0], values))\n",
    "        self._capacity = capacity\n",
    "        self._lookup = np.empty((self._n+1, self._capacity+1), dtype=np.uint64)\n",
    "        self._max_value = None\n",
    "        self._items = []\n",
    "\n",
    "    def solve(self):\n",
    "        self._max_value = knapsack(self._weights, self._values, self._capacity, self._n, self._lookup)\n",
    "        i = self._n\n",
    "        j = self._capacity\n",
    "        while i > 0 and j > 0:\n",
    "            if self._lookup[i, j] == self._lookup[i-1, j]:\n",
    "                pass  # Item is excluded\n",
    "            else:\n",
    "                idx = i - 1\n",
    "                self._items.append(idx)  # Item is included\n",
    "                j = j - self._weights[i]\n",
    "            i = i-1\n",
    "\n",
    "    @property\n",
    "    def max_value(self):\n",
    "        return self._max_value\n",
    "\n",
    "    @property\n",
    "    def items(self):\n",
    "        \"\"\"\n",
    "        These are the indices corresponding to the original weights or\n",
    "        values vectors\n",
    "        \"\"\"\n",
    "        return self._items"
   ]
  },
  {
   "cell_type": "code",
   "execution_count": 4,
   "id": "c6c0a3d5-0e16-4d13-bbdf-579ec079c1f8",
   "metadata": {},
   "outputs": [],
   "source": [
    "weights = [10, 20, 30]\n",
    "values = [60, 100, 120]\n",
    "capacity = 50\n",
    "\n",
    "ks = KNAPSACK(weights, values, capacity)\n",
    "ks.solve()\n",
    "assert ks._max_value == 220\n",
    "assert ks._items == [2, 1]"
   ]
  }
 ],
 "metadata": {
  "kernelspec": {
   "display_name": "Python 3 (ipykernel)",
   "language": "python",
   "name": "python3"
  },
  "language_info": {
   "codemirror_mode": {
    "name": "ipython",
    "version": 3
   },
   "file_extension": ".py",
   "mimetype": "text/x-python",
   "name": "python",
   "nbconvert_exporter": "python",
   "pygments_lexer": "ipython3",
   "version": "3.12.2"
  }
 },
 "nbformat": 4,
 "nbformat_minor": 5
}
