{
 "cells": [
  {
   "cell_type": "code",
   "execution_count": 1,
   "id": "69151d21-f0f0-4249-96d3-fad010fb81b4",
   "metadata": {},
   "outputs": [],
   "source": [
    "import numpy as np\n",
    "from numba import njit"
   ]
  },
  {
   "cell_type": "markdown",
   "id": "f77d4de5-3489-4c8b-b6a1-579bfa99f8fc",
   "metadata": {},
   "source": [
    "# References\n",
    "\n",
    "* [Knapsack Problem Dynamic Programming](https://www.youtube.com/watch?v=zRza99HPvkQ)\n",
    "* [Ekillion Train Example](https://github.com/takemaru/graphillion/wiki/Example-codes#ekillion---weighted-edges-and-vertices)\n",
    "* [Finding All Knapsack Solutions (Paths) Within a Range of Weight Limits](https://github.com/takemaru/graphillion/issues/66)\n",
    "* [Top-Down vs Bottom-Up Dynamic Programming](https://www.youtube.com/watch?v=M-NeO_9BU_A)"
   ]
  },
  {
   "cell_type": "code",
   "execution_count": 2,
   "id": "60cff6d3-c875-46b9-89e7-f94bd22feb9e",
   "metadata": {},
   "outputs": [],
   "source": [
    "@njit\n",
    "def knapsack(weights, values, capacity, n, lookup):\n",
    "    \"\"\"\n",
    "    Based on these dynamic programming explanations:\n",
    "    https://www.youtube.com/watch?v=hagBB17_hvg\n",
    "    https://www.youtube.com/watch?v=zRza99HPvkQ\n",
    "\n",
    "    Nearly identical code can be found here:\n",
    "    https://www.geeksforgeeks.org/0-1-knapsack-problem-dp-10/\n",
    "\n",
    "    Search for \"Bottom-up Approach for 0/1 Knapsack Problem\"\n",
    "\n",
    "    Note that the weights and values vectors are assumed to have a zero\n",
    "    prepended to them. Thus, the index of each item starts at one.\n",
    "    \"\"\"\n",
    "    for i in range(n+1):\n",
    "        for w in range(capacity+1):\n",
    "            if i == 0 or w == 0:\n",
    "                lookup[i, w] = 0\n",
    "            elif weights[i] <= w:\n",
    "                lookup[i, w] = max(\n",
    "                    lookup[i-1, w-weights[i]] + values[i],\n",
    "                    lookup[i-1, w]\n",
    "                )\n",
    "            else:\n",
    "                lookup[i, w] = lookup[i-1, w]\n",
    "    return lookup[n, w]"
   ]
  },
  {
   "cell_type": "code",
   "execution_count": 3,
   "id": "08a9daa4-0caf-4f90-a172-03ae95b3003d",
   "metadata": {},
   "outputs": [],
   "source": [
    "class KNAPSACK:\n",
    "    def __init__(self, weights, values, capacity):\n",
    "        self._n = len(weights)  # This is the actual number of items\n",
    "        self._weights = np.concatenate(([0], weights))\n",
    "        self._values = np.concatenate(([0], values))\n",
    "        self._capacity = capacity\n",
    "        self._lookup = np.empty((self._n+1, self._capacity+1), dtype=np.int64)\n",
    "        self._max_value = None\n",
    "        self._items = []\n",
    "\n",
    "    def solve(self):\n",
    "        knapsack(self._weights, self._values, self._capacity, self._n, self._lookup)\n",
    "\n",
    "    @property\n",
    "    def max_value(self):\n",
    "        self._max_value = self._lookup[self._n, self._capacity]\n",
    "        return self._max_value\n",
    "\n",
    "    def get_value(self, idx):\n",
    "        idx = [i+1 for i in idx]\n",
    "        return self._values[idx].sum()\n",
    "\n",
    "    @property\n",
    "    def items(self):\n",
    "        \"\"\"\n",
    "        These are the indices corresponding to the original weights or\n",
    "        values vectors\n",
    "        \"\"\"\n",
    "        self._items = []\n",
    "        i = self._n\n",
    "        j = self._capacity\n",
    "        lookup = self._lookup.copy()\n",
    "        while i > 0 and j > 0:\n",
    "            if lookup[i, j] == lookup[i-1, j]:\n",
    "                pass  # Item is excluded\n",
    "            else:\n",
    "                idx = i - 1\n",
    "                self._items.append(idx)  # Item is included\n",
    "                j = j - self._weights[i]\n",
    "            i = i-1\n",
    "        return self._items"
   ]
  },
  {
   "cell_type": "code",
   "execution_count": 277,
   "id": "c6c0a3d5-0e16-4d13-bbdf-579ec079c1f8",
   "metadata": {},
   "outputs": [],
   "source": [
    "weights = [1, 2, 3]\n",
    "values = [6, 10, 12]\n",
    "weights = [1, 2, 3, 2]\n",
    "values = [6, 10, 12, 10]\n",
    "capacity = 5\n",
    "\n",
    "ks = KNAPSACK(weights, values, capacity)\n",
    "ks.solve()\n",
    "# assert ks.max_value == 220\n",
    "# assert sorted(ks.items) == [1, 2]\n",
    "# assert ks.get_value(ks.items) == 22"
   ]
  },
  {
   "cell_type": "raw",
   "id": "66471125-d42f-4e30-ba18-ef07a7db8316",
   "metadata": {},
   "source": [
    "array([[ 0,  0,  0,  0,  0,  0],\n",
    "       [ 0,  6,  6,  6,  6,  6],\n",
    "       [ 0,  6, 10, 16, 16, 16],\n",
    "       [ 0,  6, 10, 16, 18, 22]])"
   ]
  },
  {
   "cell_type": "code",
   "execution_count": 282,
   "id": "e5432dc6-02b1-47e8-b33e-41e61f2bfed4",
   "metadata": {},
   "outputs": [
    {
     "data": {
      "text/plain": [
       "(array([[ 0,  0,  0,  0,  0,  0],\n",
       "        [ 0,  6,  6,  6,  6,  6],\n",
       "        [ 0,  6, 10, 16, 16, 16],\n",
       "        [ 0,  6, 10, 16, 18, 22],\n",
       "        [ 0,  6, 10, 16, 20, 26]]),\n",
       " [3, 1, 0])"
      ]
     },
     "execution_count": 282,
     "metadata": {},
     "output_type": "execute_result"
    }
   ],
   "source": [
    "ks._lookup, ks.items"
   ]
  },
  {
   "cell_type": "code",
   "execution_count": 283,
   "id": "6ca67cee-9990-490b-ad4c-310565024a78",
   "metadata": {},
   "outputs": [
    {
     "data": {
      "text/plain": [
       "16"
      ]
     },
     "execution_count": 283,
     "metadata": {},
     "output_type": "execute_result"
    }
   ],
   "source": [
    "26 - values[3]"
   ]
  },
  {
   "cell_type": "code",
   "execution_count": 284,
   "id": "cac5fcd8-5999-4b46-be94-26c1d784b488",
   "metadata": {},
   "outputs": [
    {
     "data": {
      "text/plain": [
       "6"
      ]
     },
     "execution_count": 284,
     "metadata": {},
     "output_type": "execute_result"
    }
   ],
   "source": [
    "16 - values[1]"
   ]
  },
  {
   "cell_type": "code",
   "execution_count": 279,
   "id": "c9a32360-f606-4e28-af0b-25eee854537f",
   "metadata": {},
   "outputs": [],
   "source": [
    "def get_solutions(weights, i, j, lookup, partial):\n",
    "    if i == 0:\n",
    "        return None\n",
    "    if j == 0:\n",
    "        return partial.copy()\n",
    "\n",
    "    solutions = []\n",
    "    if lookup[i, j] == lookup[i-1, j]:\n",
    "        pass  # Item is excluded\n",
    "    else:\n",
    "        new_solution = partial.copy()\n",
    "        \n",
    "        idx = i - 1\n",
    "        # if idx not in new_solution:\n",
    "        new_solution.append(idx)\n",
    "        \n",
    "        left = get_solutions(weights, i, j-weights[i-1], lookup, new_solution)\n",
    "        if left is not None:\n",
    "            solutions = solutions + left\n",
    "\n",
    "        right = get_solutions(weights, i-1, j, lookup, partial)\n",
    "        if right is not None:\n",
    "            solutions.append(right)\n",
    "\n",
    "        return solutions.copy()\n",
    "\n",
    "    return get_solutions(weights, i-1, j, lookup, partial)"
   ]
  },
  {
   "cell_type": "code",
   "execution_count": 280,
   "id": "9bc3eb2b-9fcb-419f-8076-8549c557cf4f",
   "metadata": {},
   "outputs": [
    {
     "data": {
      "text/plain": [
       "[3,\n",
       " 1,\n",
       " 0,\n",
       " [3, 0, 0, 0],\n",
       " [2, 1, [2, 0, 0], [1, 1, 0, [1, 0, 0, 0], [0, 0, 0, 0, 0]]]]"
      ]
     },
     "execution_count": 280,
     "metadata": {},
     "output_type": "execute_result"
    }
   ],
   "source": [
    "# weights = [10, 20, 30]\n",
    "# values = [60, 100, 120]\n",
    "# capacity = 50\n",
    "get_solutions(ks._weights[1:], ks._n, ks._capacity, ks._lookup, [])"
   ]
  },
  {
   "cell_type": "code",
   "execution_count": 218,
   "id": "1f262b3d-3794-4dc1-abd8-16292415aa12",
   "metadata": {},
   "outputs": [
    {
     "data": {
      "text/plain": [
       "[[[[3, 1, 0]], [[[[3, 0, 0, 0]]]]],\n",
       " [[[2, 1], [[[2, 0, 0]]]],\n",
       "  [[[[1, 1, 0]], [[[[1, 0, 0, 0]]]]], [[[[[[0, 0, 0, 0, 0]]]]]]]]]"
      ]
     },
     "execution_count": 218,
     "metadata": {},
     "output_type": "execute_result"
    }
   ],
   "source": [
    "get_solutions(weights, ks._n, ks._capacity, ks._lookup, [])"
   ]
  },
  {
   "cell_type": "code",
   "execution_count": 36,
   "id": "86e80445-8af5-4fe3-8521-38e8b7cad2a5",
   "metadata": {},
   "outputs": [],
   "source": [
    "weights = [1, 2, 3, 2]\n",
    "values = [6, 10, 12, 10]\n",
    "capacity = 5\n",
    "\n",
    "ks = KNAPSACK(weights, values, capacity)\n",
    "ks.solve()"
   ]
  },
  {
   "cell_type": "code",
   "execution_count": 37,
   "id": "60550fda-73b9-4d79-b0f6-bd03dc2f4dc4",
   "metadata": {},
   "outputs": [
    {
     "data": {
      "text/plain": [
       "array([[ 0,  0,  0,  0,  0,  0],\n",
       "       [ 0,  6,  6,  6,  6,  6],\n",
       "       [ 0,  6, 10, 16, 16, 16],\n",
       "       [ 0,  6, 10, 16, 18, 22],\n",
       "       [ 0,  6, 10, 16, 20, 26]])"
      ]
     },
     "execution_count": 37,
     "metadata": {},
     "output_type": "execute_result"
    }
   ],
   "source": [
    "ks._lookup"
   ]
  },
  {
   "cell_type": "code",
   "execution_count": 38,
   "id": "c6c9ea38-9019-4825-83ac-8fa6daa2bbd5",
   "metadata": {},
   "outputs": [
    {
     "data": {
      "text/plain": [
       "[3, 1, 0]"
      ]
     },
     "execution_count": 38,
     "metadata": {},
     "output_type": "execute_result"
    }
   ],
   "source": [
    "ks.items"
   ]
  },
  {
   "cell_type": "code",
   "execution_count": 39,
   "id": "3293c911-6d22-4e0e-bca8-250f225ba80c",
   "metadata": {},
   "outputs": [
    {
     "data": {
      "text/plain": [
       "array([[ 0,  0,  0,  0,  0,  0],\n",
       "       [ 0,  6,  6,  6,  6,  6],\n",
       "       [ 0,  6, 10, 16, 16, 16],\n",
       "       [ 0,  6, 10, 16, 18, 22],\n",
       "       [ 0,  6, 10, 16, 18, 22]])"
      ]
     },
     "execution_count": 39,
     "metadata": {},
     "output_type": "execute_result"
    }
   ],
   "source": [
    "weights = [1, 2, 3, 2]\n",
    "values = [6, 10, 12, 5]\n",
    "capacity = 5\n",
    "\n",
    "ks = KNAPSACK(weights, values, capacity)\n",
    "ks.solve()\n",
    "ks._lookup"
   ]
  },
  {
   "cell_type": "code",
   "execution_count": 40,
   "id": "4f32d974-0db8-4ac9-9187-7f9a6bfe6dd7",
   "metadata": {},
   "outputs": [
    {
     "data": {
      "text/plain": [
       "[2, 1]"
      ]
     },
     "execution_count": 40,
     "metadata": {},
     "output_type": "execute_result"
    }
   ],
   "source": [
    "ks.items"
   ]
  },
  {
   "cell_type": "code",
   "execution_count": 41,
   "id": "f521ea71-d4ed-4880-a6fc-fcb8fbec62a8",
   "metadata": {},
   "outputs": [
    {
     "data": {
      "text/plain": [
       "array([[ 0,  0,  0,  0,  0,  0],\n",
       "       [ 0,  6,  6,  6,  6,  6],\n",
       "       [ 0,  6, 10, 16, 16, 16],\n",
       "       [ 0,  6, 10, 16, 18, 22],\n",
       "       [ 0,  6, 10, 16, 18, 22]])"
      ]
     },
     "execution_count": 41,
     "metadata": {},
     "output_type": "execute_result"
    }
   ],
   "source": [
    "weights = [1, 2, 3, 2]\n",
    "values = [6, 10, 12, 6]\n",
    "capacity = 5\n",
    "\n",
    "ks = KNAPSACK(weights, values, capacity)\n",
    "ks.solve()\n",
    "ks._lookup"
   ]
  },
  {
   "cell_type": "code",
   "execution_count": 42,
   "id": "7a17eb46-678b-4d89-9a55-d909cd85034c",
   "metadata": {},
   "outputs": [
    {
     "data": {
      "text/plain": [
       "[2, 1]"
      ]
     },
     "execution_count": 42,
     "metadata": {},
     "output_type": "execute_result"
    }
   ],
   "source": [
    "ks.items"
   ]
  },
  {
   "cell_type": "code",
   "execution_count": 44,
   "id": "75954462-86fe-44f7-b75c-df0080261902",
   "metadata": {},
   "outputs": [
    {
     "data": {
      "text/plain": [
       "array([[ 0,  0,  0,  0,  0,  0],\n",
       "       [ 0,  6,  6,  6,  6,  6],\n",
       "       [ 0,  6, 10, 16, 16, 16],\n",
       "       [ 0,  6, 10, 16, 18, 22],\n",
       "       [ 0,  6, 10, 16, 18, 22],\n",
       "       [ 0,  6, 11, 16, 21, 23]])"
      ]
     },
     "execution_count": 44,
     "metadata": {},
     "output_type": "execute_result"
    }
   ],
   "source": [
    "weights = [1,  2,  3, 2, 1]\n",
    "values =  [6, 10, 12, 6, 5]\n",
    "capacity = 5\n",
    "\n",
    "ks = KNAPSACK(weights, values, capacity)\n",
    "ks.solve()\n",
    "ks._lookup"
   ]
  },
  {
   "cell_type": "code",
   "execution_count": 45,
   "id": "6d9799e4-5f6a-49ef-b7b4-2478fb4e3f1f",
   "metadata": {},
   "outputs": [
    {
     "data": {
      "text/plain": [
       "[4, 2, 0]"
      ]
     },
     "execution_count": 45,
     "metadata": {},
     "output_type": "execute_result"
    }
   ],
   "source": [
    "ks.items"
   ]
  },
  {
   "cell_type": "markdown",
   "id": "0b4065f5-1f41-4941-b059-245f9be3776d",
   "metadata": {},
   "source": [
    "# Version 1"
   ]
  },
  {
   "cell_type": "code",
   "execution_count": 258,
   "id": "dfac4e03-65b9-4430-bdad-4481663e43d9",
   "metadata": {},
   "outputs": [],
   "source": [
    "def get_solutions(weights, i, j, lookup, partial):\n",
    "    if i == 0:\n",
    "        return []\n",
    "    if j == 0:\n",
    "        return partial.copy()\n",
    "\n",
    "    solutions = []\n",
    "    if lookup[i, j] == lookup[i-1, j]:\n",
    "        pass  # Item is excluded\n",
    "    else:\n",
    "        new_solution = partial.copy()\n",
    "        idx = i - 1\n",
    "        new_solution.append(idx)\n",
    "        left = get_solutions(weights, i, j-weights[i-1], lookup, new_solution)\n",
    "        if len(left):\n",
    "            solutions.append(left)\n",
    "\n",
    "        right = get_solutions(weights, i-1, j, lookup, partial)\n",
    "        if len(right):\n",
    "            solutions.append(right)\n",
    "\n",
    "        return solutions\n",
    "\n",
    "    return get_solutions(weights, i-1, j, lookup, partial)"
   ]
  },
  {
   "cell_type": "code",
   "execution_count": 259,
   "id": "3740d4c3-b9cd-4c0e-ae11-35976f32115b",
   "metadata": {},
   "outputs": [
    {
     "data": {
      "text/plain": [
       "[[[[3, 1, 0]], [[[[3, 0, 0, 0]]]]],\n",
       " [[[2, 1], [[[2, 0, 0]]]],\n",
       "  [[[[1, 1, 0]], [[[[1, 0, 0, 0]]]]], [[[[[[0, 0, 0, 0, 0]]]]]]]]]"
      ]
     },
     "execution_count": 259,
     "metadata": {},
     "output_type": "execute_result"
    }
   ],
   "source": [
    "get_solutions(ks._weights[1:], ks._n, ks._capacity, ks._lookup, [])"
   ]
  },
  {
   "cell_type": "markdown",
   "id": "4686cf9e-9b91-4e27-a180-3f6244dbb4c4",
   "metadata": {},
   "source": [
    "# Version 2"
   ]
  },
  {
   "cell_type": "code",
   "execution_count": 261,
   "id": "d21e449a-2355-449d-9405-9b83bfc8b0de",
   "metadata": {},
   "outputs": [],
   "source": [
    "def get_solutions(weights, i, j, lookup, partial):\n",
    "    if i == 0:\n",
    "        return None\n",
    "    if j == 0:\n",
    "        return partial.copy()\n",
    "\n",
    "    solutions = []\n",
    "    if lookup[i, j] == lookup[i-1, j]:\n",
    "        pass  # Item is excluded\n",
    "    else:\n",
    "        new_solution = partial.copy()\n",
    "        \n",
    "        idx = i - 1\n",
    "        if idx not in new_solution:\n",
    "            new_solution.append(idx)\n",
    "        \n",
    "        left = get_solutions(weights, i, j-weights[i-1], lookup, new_solution)\n",
    "        if left is not None:\n",
    "            solutions = solutions + left\n",
    "\n",
    "        right = get_solutions(weights, i-1, j, lookup, partial)\n",
    "        if right is not None:\n",
    "            solutions.append(right)\n",
    "\n",
    "        return solutions.copy()\n",
    "\n",
    "    return get_solutions(weights, i-1, j, lookup, partial)"
   ]
  },
  {
   "cell_type": "code",
   "execution_count": 262,
   "id": "53fd5df1-1a35-49c1-943f-39d0e9d2a9ec",
   "metadata": {},
   "outputs": [
    {
     "data": {
      "text/plain": [
       "[3, 1, 0, [3, 0], [2, 1, [2, 0], [1, 0, [1, 0], [0]]]]"
      ]
     },
     "execution_count": 262,
     "metadata": {},
     "output_type": "execute_result"
    }
   ],
   "source": [
    "get_solutions(ks._weights[1:], ks._n, ks._capacity, ks._lookup, [])"
   ]
  },
  {
   "cell_type": "markdown",
   "id": "82689033-130a-47d9-822b-18758df778ba",
   "metadata": {},
   "source": [
    "# Version 3 (Graphillion)"
   ]
  },
  {
   "cell_type": "code",
   "execution_count": 1,
   "id": "effaa79d-9ed7-4f31-b446-f945afe5be77",
   "metadata": {},
   "outputs": [],
   "source": [
    "weights = [1,  2,  3, 2, 1]\n",
    "values =  [6, 10, 12, 6, 5]\n",
    "capacity = 5"
   ]
  },
  {
   "cell_type": "code",
   "execution_count": 2,
   "id": "6960e102-ccea-4d1c-ae72-8c785cab4c3f",
   "metadata": {},
   "outputs": [],
   "source": [
    "from graphillion import setset\n",
    "\n",
    "items = list(range(len(values))) # item id (arbitrary)\n",
    "\n",
    "cost_dic = {} # dictionary whose key is an item and whose value is\n",
    "weight_dic = {}\n",
    "for i in range(len(items)):\n",
    "    cost_dic[items[i]] = values[i]\n",
    "    weight_dic[items[i]] = weights[i]\n",
    "\n",
    "setset.set_universe(items) # must be called\n",
    "\n",
    "power_set = setset({}) # power set (all the combinations of the items)\n",
    "weight_constrained_solutions = power_set.cost_le(weight_dic, capacity)"
   ]
  },
  {
   "cell_type": "code",
   "execution_count": 3,
   "id": "9885c1d6-d32f-433d-9b53-f9793b1b9b89",
   "metadata": {},
   "outputs": [
    {
     "name": "stdout",
     "output_type": "stream",
     "text": [
      "{0, 2, 4}\n",
      "{1, 2}\n",
      "{0, 1, 3}\n"
     ]
    }
   ],
   "source": [
    "count = 0\n",
    "for solution in weight_constrained_solutions.max_iter(cost_dic):\n",
    "    print(solution)\n",
    "    count += 1\n",
    "    if count >= 3:\n",
    "        break"
   ]
  },
  {
   "cell_type": "code",
   "execution_count": 13,
   "id": "582d00d7-0d38-471b-95ef-9f8cd7b6b42d",
   "metadata": {},
   "outputs": [],
   "source": [
    "items = list(range(10_000))\n",
    "setset.set_universe(items) # must be called\n",
    "\n",
    "power_set = setset({}) # power set (all the combinations of the items)"
   ]
  },
  {
   "cell_type": "code",
   "execution_count": 14,
   "id": "d208d56f-013a-44d4-8468-b996affbf370",
   "metadata": {},
   "outputs": [],
   "source": [
    "cost_dic = {} # dictionary whose key is an item and whose value is\n",
    "weight_dic = {}\n",
    "for i in range(len(items)):\n",
    "    cost_dic[items[i]] = 1\n",
    "    weight_dic[items[i]] = 1"
   ]
  },
  {
   "cell_type": "code",
   "execution_count": 15,
   "id": "298459a1-6290-4243-b0aa-c17fb837770b",
   "metadata": {},
   "outputs": [],
   "source": [
    "weight_constrained_solutions = power_set.cost_le(weight_dic, 100)"
   ]
  },
  {
   "cell_type": "code",
   "execution_count": null,
   "id": "ffcedfc0-1ef9-40f7-a94a-60c7944f16d1",
   "metadata": {},
   "outputs": [],
   "source": [
    "count = 0\n",
    "for solution in weight_constrained_solutions.max_iter(cost_dic):\n",
    "    print(solution)\n",
    "    count += 1\n",
    "    if count >= 3:\n",
    "        break"
   ]
  },
  {
   "cell_type": "code",
   "execution_count": null,
   "id": "cd8b1f64-0b0c-486e-b2fc-15864f08d0b0",
   "metadata": {},
   "outputs": [],
   "source": [
    "# Testing the Limit\n",
    "\n",
    "from graphillion import setset\n",
    "import numpy as np\n",
    "\n",
    "items = list(range(10_000))\n",
    "\n",
    "cost_dic = {} # dictionary whose key is an item and whose value is\n",
    "weight_dic = {}\n",
    "for i in range(len(items)):\n",
    "    cost_dic[items[i]] = np.random.randint(100)\n",
    "    weight_dic[items[i]] = np.random.randint(100)\n",
    "\n",
    "setset.set_universe(items) # must be called\n",
    "\n",
    "power_set = setset({}) # power set (all the combinations of the items)\n",
    "\n",
    "weight_constrained_solutions = power_set.cost_le(weight_dic, 100)\n",
    "\n",
    "count = 0\n",
    "for solution in weight_constrained_solutions.max_iter(cost_dic):\n",
    "    print(solution)\n",
    "    count += 1\n",
    "    if count >= 3:\n",
    "        break"
   ]
  }
 ],
 "metadata": {
  "kernelspec": {
   "display_name": "Python 3 (ipykernel)",
   "language": "python",
   "name": "python3"
  },
  "language_info": {
   "codemirror_mode": {
    "name": "ipython",
    "version": 3
   },
   "file_extension": ".py",
   "mimetype": "text/x-python",
   "name": "python",
   "nbconvert_exporter": "python",
   "pygments_lexer": "ipython3",
   "version": "3.13.2"
  }
 },
 "nbformat": 4,
 "nbformat_minor": 5
}
